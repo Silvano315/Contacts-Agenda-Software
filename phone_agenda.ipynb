{
 "cells": [
  {
   "cell_type": "markdown",
   "metadata": {},
   "source": [
    "# ContactEase Solutions\n",
    "*Contacts Agenda Software with Python*"
   ]
  },
  {
   "cell_type": "code",
   "execution_count": 1,
   "metadata": {},
   "outputs": [],
   "source": [
    "# Import Libraries\n",
    "\n",
    "import json\n",
    "import os"
   ]
  },
  {
   "cell_type": "markdown",
   "metadata": {},
   "source": [
    "## Create Data Structure\n",
    "*JSON file*"
   ]
  },
  {
   "cell_type": "code",
   "execution_count": 2,
   "metadata": {},
   "outputs": [],
   "source": [
    "phone_agenda = {\n",
    "    'name' : [],\n",
    "    'phone' : [],\n",
    "    'email' : [],\n",
    "    'group' : [],\n",
    "    'address' : {\n",
    "        'street' : [],\n",
    "        'city' : [],\n",
    "        'state' : []\n",
    "    },\n",
    "    'note' : []\n",
    "}"
   ]
  },
  {
   "cell_type": "code",
   "execution_count": 3,
   "metadata": {},
   "outputs": [
    {
     "data": {
      "text/plain": [
       "{'name': [],\n",
       " 'phone': [],\n",
       " 'email': [],\n",
       " 'group': [],\n",
       " 'address': {'street': [], 'city': [], 'state': []},\n",
       " 'note': []}"
      ]
     },
     "execution_count": 3,
     "metadata": {},
     "output_type": "execute_result"
    }
   ],
   "source": [
    "phone_agenda"
   ]
  },
  {
   "cell_type": "code",
   "execution_count": 4,
   "metadata": {},
   "outputs": [],
   "source": [
    "# Possible integration: create a Logs folder to store all the operations done by the user with datatime \n",
    "\n",
    "os.makedirs(\"Logs\", exist_ok=True)"
   ]
  },
  {
   "cell_type": "code",
   "execution_count": 6,
   "metadata": {},
   "outputs": [
    {
     "name": "stdout",
     "output_type": "stream",
     "text": [
      "Agenda has been created!!\n"
     ]
    }
   ],
   "source": [
    "# Create Contacts folder to store the json file for phone agenda\n",
    "\n",
    "os.makedirs(\"Contacts\", exist_ok=True)\n",
    "\n",
    "with open(\"Contacts/agenda.json\", 'w') as agenda_file:\n",
    "    json.dump(phone_agenda, agenda_file, indent=4)\n",
    "\n",
    "    print(\"Agenda has been created!!\")"
   ]
  }
 ],
 "metadata": {
  "kernelspec": {
   "display_name": ".venv",
   "language": "python",
   "name": "python3"
  },
  "language_info": {
   "codemirror_mode": {
    "name": "ipython",
    "version": 3
   },
   "file_extension": ".py",
   "mimetype": "text/x-python",
   "name": "python",
   "nbconvert_exporter": "python",
   "pygments_lexer": "ipython3",
   "version": "3.11.9"
  }
 },
 "nbformat": 4,
 "nbformat_minor": 2
}
