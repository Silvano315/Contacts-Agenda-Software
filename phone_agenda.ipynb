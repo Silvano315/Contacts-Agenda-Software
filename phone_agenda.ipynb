{
 "cells": [
  {
   "cell_type": "markdown",
   "metadata": {},
   "source": [
    "# ContactEase Solutions\n",
    "*Contacts Agenda Software with Python*"
   ]
  },
  {
   "cell_type": "code",
   "execution_count": null,
   "metadata": {},
   "outputs": [],
   "source": [
    "# Download packages requrire\n",
    "\n",
    "!pip install -r requirements.txt"
   ]
  },
  {
   "cell_type": "code",
   "execution_count": 1,
   "metadata": {},
   "outputs": [],
   "source": [
    "# Import Libraries\n",
    "\n",
    "import json\n",
    "import os\n",
    "import src"
   ]
  },
  {
   "cell_type": "markdown",
   "metadata": {},
   "source": [
    "## Create Data Structure Manually\n",
    "*JSON file*\n",
    "\n",
    "- Update:\n",
    "Now there is a method to do it as an agenda operation!"
   ]
  },
  {
   "cell_type": "code",
   "execution_count": 2,
   "metadata": {},
   "outputs": [],
   "source": [
    "# Create Data Structure for my JSON file as a phone agenda\n",
    "\n",
    "phone_agenda = {\n",
    "    'name' : {\n",
    "        'first name' : [],\n",
    "        'last name' : []\n",
    "    },\n",
    "    'phone' : [],\n",
    "    'email' : [],\n",
    "    'group' : [],\n",
    "    'address' : {\n",
    "        'street' : [],\n",
    "        'city' : [],\n",
    "        'state' : []\n",
    "    },\n",
    "    'note' : []\n",
    "}"
   ]
  },
  {
   "cell_type": "code",
   "execution_count": 4,
   "metadata": {},
   "outputs": [],
   "source": [
    "# Possible integration: create a Logs folder to store all the operations done by the user with datatime \n",
    "# TBD\n",
    "\n",
    "os.makedirs(\"Logs\", exist_ok=True)"
   ]
  },
  {
   "cell_type": "code",
   "execution_count": 3,
   "metadata": {},
   "outputs": [
    {
     "name": "stdout",
     "output_type": "stream",
     "text": [
      "Agenda has been created!!\n"
     ]
    }
   ],
   "source": [
    "# Create Contacts folder where to store the json file for phone agenda\n",
    "\n",
    "os.makedirs(\"Contacts\", exist_ok=True)\n",
    "\n",
    "with open(\"Contacts/agenda.json\", 'w') as agenda_file:\n",
    "    \n",
    "    json.dump(phone_agenda, agenda_file, indent=4)\n",
    "\n",
    "    print(\"Agenda has been created!!\")"
   ]
  },
  {
   "cell_type": "markdown",
   "metadata": {},
   "source": [
    "## Operations for phone agenda"
   ]
  },
  {
   "cell_type": "code",
   "execution_count": 2,
   "metadata": {},
   "outputs": [],
   "source": [
    "# Create instance to Operations object\n",
    "\n",
    "operations = src.agenda_operations.Operations()"
   ]
  },
  {
   "cell_type": "markdown",
   "metadata": {},
   "source": [
    "### Initialize Phone Agenda"
   ]
  },
  {
   "cell_type": "code",
   "execution_count": 3,
   "metadata": {},
   "outputs": [
    {
     "name": "stdout",
     "output_type": "stream",
     "text": [
      "Agenda has been created!!\n"
     ]
    },
    {
     "data": {
      "text/plain": [
       "{'name': {'first name': [], 'last name': []},\n",
       " 'phone': [],\n",
       " 'email': [],\n",
       " 'group': [],\n",
       " 'address': {'street': [], 'city': [], 'state': []},\n",
       " 'note': []}"
      ]
     },
     "execution_count": 3,
     "metadata": {},
     "output_type": "execute_result"
    }
   ],
   "source": [
    "# Initialize agenda or using this command to reset it\n",
    "\n",
    "operations.initialize_agenda()"
   ]
  },
  {
   "cell_type": "markdown",
   "metadata": {},
   "source": [
    "### Load Agenda"
   ]
  },
  {
   "cell_type": "code",
   "execution_count": 16,
   "metadata": {},
   "outputs": [
    {
     "data": {
      "text/plain": [
       "{'name': {'first name': ['Paola', 'Paola', 'Silvano', 'Silvano'],\n",
       "  'last name': ['Quarto', 'Lupo', 'Quarto', 'Lupo']},\n",
       " 'phone': ['1111111', '2222222', '32432432', '0039424204', '422424'],\n",
       " 'email': ['ciaociao@ciao.com', 'wewewe@wew.uk', '', 'esf@faaf.it', ''],\n",
       " 'group': ['me myself I', 'family', '', '', ''],\n",
       " 'address': {'street': ['', '', '', ''],\n",
       "  'city': ['', '', '', ''],\n",
       "  'state': ['USA', '', '', '']},\n",
       " 'note': ['me myself I', 'family', '', '', '']}"
      ]
     },
     "execution_count": 16,
     "metadata": {},
     "output_type": "execute_result"
    }
   ],
   "source": [
    "# Load Agenda to see data structure and contacts' details\n",
    "\n",
    "operations.load_contacts()"
   ]
  },
  {
   "cell_type": "markdown",
   "metadata": {},
   "source": [
    "### Save Agenda"
   ]
  },
  {
   "cell_type": "code",
   "execution_count": 17,
   "metadata": {},
   "outputs": [
    {
     "name": "stdout",
     "output_type": "stream",
     "text": [
      "Contacts saved successfully.\n"
     ]
    }
   ],
   "source": [
    "# Save Agenda manually \n",
    "\n",
    "operations.save_contacts()"
   ]
  },
  {
   "cell_type": "markdown",
   "metadata": {},
   "source": [
    "### Adding a contact"
   ]
  },
  {
   "cell_type": "code",
   "execution_count": 18,
   "metadata": {},
   "outputs": [
    {
     "name": "stdout",
     "output_type": "stream",
     "text": [
      "Contacts saved successfully.\n",
      "Contact added successfully.\n"
     ]
    }
   ],
   "source": [
    "# Add contact\n",
    "\n",
    "operations.add_contact()"
   ]
  },
  {
   "cell_type": "markdown",
   "metadata": {},
   "source": [
    "### Contacts View"
   ]
  },
  {
   "cell_type": "code",
   "execution_count": 15,
   "metadata": {},
   "outputs": [
    {
     "name": "stdout",
     "output_type": "stream",
     "text": [
      "Contact 1: Paola Lupo\n",
      "Contact 2: Paola Quarto\n",
      "Contact 3: Silvano Lupo\n",
      "Contact 4: Silvano Quarto\n",
      "==============================\n",
      "First name: Silvano\n",
      "Last name: Quarto\n",
      "Phone: 32432432\n",
      "==============================\n",
      "Exiting the operation. Thank you!\n"
     ]
    }
   ],
   "source": [
    "# View Contacts list\n",
    "\n",
    "operations.view_contacts()"
   ]
  },
  {
   "cell_type": "markdown",
   "metadata": {},
   "source": [
    "### Editing a Contact"
   ]
  },
  {
   "cell_type": "code",
   "execution_count": 15,
   "metadata": {},
   "outputs": [
    {
     "name": "stdout",
     "output_type": "stream",
     "text": [
      "Name not present. Please enter a contact's name available.\n",
      "Contacts saved successfully.\n",
      "==============================\n",
      "Modified contact:\n",
      "First name: silvano\n",
      "Last name: quarto\n",
      "Phone: 2324\n",
      "Email: wd@323.it\n",
      "Group: me\n",
      "Note: family sister\n",
      "==============================\n",
      "Exiting the operation. Thank you!\n"
     ]
    }
   ],
   "source": [
    "# Edit Contacts details\n",
    "\n",
    "operations.edit_contacts()"
   ]
  },
  {
   "cell_type": "markdown",
   "metadata": {},
   "source": [
    "### Deleting contact"
   ]
  },
  {
   "cell_type": "code",
   "execution_count": 28,
   "metadata": {},
   "outputs": [
    {
     "name": "stdout",
     "output_type": "stream",
     "text": [
      "Contact 'Silvano Lupo' has been deleted.\n",
      "Contacts saved successfully.\n"
     ]
    }
   ],
   "source": [
    "# Deleting a contact from contact's name\n",
    "\n",
    "operations.deleting_contact()"
   ]
  },
  {
   "cell_type": "markdown",
   "metadata": {},
   "source": [
    "### Search for a Contact"
   ]
  },
  {
   "cell_type": "code",
   "execution_count": 19,
   "metadata": {},
   "outputs": [
    {
     "name": "stdout",
     "output_type": "stream",
     "text": [
      "Multiple contacts found with this first name:\n",
      "First name: Silvano, Last name: Quarto\n",
      "First name: Silvano, Last name: Lupo\n",
      "==============================\n",
      "First name: Silvano\n",
      "Last name: Lupo\n",
      "Phone: 0039424204\n",
      "Email: esf@faaf.it\n",
      "==============================\n"
     ]
    }
   ],
   "source": [
    "# Searching for a contact by contact's first name and surname\n",
    "\n",
    "operations.search_contact()"
   ]
  }
 ],
 "metadata": {
  "kernelspec": {
   "display_name": ".venv",
   "language": "python",
   "name": "python3"
  },
  "language_info": {
   "codemirror_mode": {
    "name": "ipython",
    "version": 3
   },
   "file_extension": ".py",
   "mimetype": "text/x-python",
   "name": "python",
   "nbconvert_exporter": "python",
   "pygments_lexer": "ipython3",
   "version": "3.11.9"
  }
 },
 "nbformat": 4,
 "nbformat_minor": 2
}
