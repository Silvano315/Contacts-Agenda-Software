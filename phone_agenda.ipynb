{
 "cells": [
  {
   "cell_type": "markdown",
   "metadata": {},
   "source": [
    "# ContactEase Solutions\n",
    "*Contacts Agenda Software with Python*"
   ]
  },
  {
   "cell_type": "code",
   "execution_count": 1,
   "metadata": {},
   "outputs": [],
   "source": [
    "# Import Libraries\n",
    "\n",
    "import json\n",
    "import os\n",
    "import src"
   ]
  },
  {
   "cell_type": "markdown",
   "metadata": {},
   "source": [
    "## Create Data Structure\n",
    "*JSON file*"
   ]
  },
  {
   "cell_type": "code",
   "execution_count": 2,
   "metadata": {},
   "outputs": [],
   "source": [
    "# Create Data Structure for my JSON file as a phone agenda\n",
    "\n",
    "phone_agenda = {\n",
    "    'name' : [],\n",
    "    'phone' : [],\n",
    "    'email' : [],\n",
    "    'group' : [],\n",
    "    'address' : {\n",
    "        'street' : [],\n",
    "        'city' : [],\n",
    "        'state' : []\n",
    "    },\n",
    "    'note' : []\n",
    "}"
   ]
  },
  {
   "cell_type": "code",
   "execution_count": 3,
   "metadata": {},
   "outputs": [],
   "source": [
    "# Possible integration: create a Logs folder to store all the operations done by the user with datatime \n",
    "# TBD\n",
    "\n",
    "os.makedirs(\"Logs\", exist_ok=True)"
   ]
  },
  {
   "cell_type": "code",
   "execution_count": 4,
   "metadata": {},
   "outputs": [
    {
     "name": "stdout",
     "output_type": "stream",
     "text": [
      "Agenda has been created!!\n"
     ]
    }
   ],
   "source": [
    "# Create Contacts folder where to store the json file for phone agenda\n",
    "\n",
    "os.makedirs(\"Contacts\", exist_ok=True)\n",
    "\n",
    "with open(\"Contacts/agenda.json\", 'w') as agenda_file:\n",
    "    \n",
    "    json.dump(phone_agenda, agenda_file, indent=4)\n",
    "\n",
    "    print(\"Agenda has been created!!\")"
   ]
  },
  {
   "cell_type": "markdown",
   "metadata": {},
   "source": [
    "## Features"
   ]
  },
  {
   "cell_type": "code",
   "execution_count": 2,
   "metadata": {},
   "outputs": [],
   "source": [
    "# Create instance to Operations object\n",
    "\n",
    "operations = src.agenda_operations.Operations()"
   ]
  },
  {
   "cell_type": "markdown",
   "metadata": {},
   "source": [
    "### Adding a contact"
   ]
  },
  {
   "cell_type": "code",
   "execution_count": null,
   "metadata": {},
   "outputs": [],
   "source": [
    "# Integration for name:\n",
    "    # name already saved\n",
    "        # Ask for modify the contact already exist (OK)\n",
    "        # Ask for changing and repeating the name (OK)\n",
    "    # Avoid \"\" option (OK)\n",
    "    # Adding surname ??\n",
    "\n",
    "# Integration for phone:\n",
    "    # phone already saved\n",
    "        # Ask for modify the contact already exist (OK)\n",
    "        # Ask for changing and repeating the phone (OK)\n",
    "    # Avoid \"\" option (OK)\n",
    "    # check if characters are all digits (at least +) (OK)\n",
    "\n",
    "# Integration for email:\n",
    "    # correct email? Is there present one @ and correct TLD domain (OK)"
   ]
  },
  {
   "cell_type": "code",
   "execution_count": 3,
   "metadata": {},
   "outputs": [],
   "source": [
    "# Add contact\n",
    "\n",
    "operations.add_contact()"
   ]
  },
  {
   "cell_type": "markdown",
   "metadata": {},
   "source": [
    "### Contacts View"
   ]
  },
  {
   "cell_type": "code",
   "execution_count": null,
   "metadata": {},
   "outputs": [],
   "source": [
    "# Integration to do:\n",
    "    # Display only names    (OK)\n",
    "        # I could also display information which are not empty (?)\n",
    "    # Alphabetic order  (OK)\n",
    "        # How to handle number in the name before letters (OK)\n",
    "    # Ask the client to see a particular contact (?)\n",
    "        # Be carefull: user could digit wrong name"
   ]
  },
  {
   "cell_type": "code",
   "execution_count": 3,
   "metadata": {},
   "outputs": [
    {
     "name": "stdout",
     "output_type": "stream",
     "text": [
      "Contact 1: aasa\n",
      "Contact 2: d\n",
      "Contact 3: o\n",
      "Contact 4: p\n",
      "Contact 5: p\n",
      "Contact 6: p\n",
      "Contact 7: p\n",
      "Contact 8: w\n",
      "Contact 9: wwww\n",
      "==============================\n",
      "name: aasa\n",
      "phone: 2121\n",
      "email: sasa@sas.com\n",
      "group: asasa\n",
      "street: ssas\n",
      "city: sassa\n",
      "state: asasa\n",
      "note: sasasa\n",
      "==============================\n",
      "name: w\n",
      "phone: 3\n",
      "email: sds@ds.com\n"
     ]
    }
   ],
   "source": [
    "# View Contacts list\n",
    "\n",
    "operations.view_contacts()"
   ]
  }
 ],
 "metadata": {
  "kernelspec": {
   "display_name": ".venv",
   "language": "python",
   "name": "python3"
  },
  "language_info": {
   "codemirror_mode": {
    "name": "ipython",
    "version": 3
   },
   "file_extension": ".py",
   "mimetype": "text/x-python",
   "name": "python",
   "nbconvert_exporter": "python",
   "pygments_lexer": "ipython3",
   "version": "3.11.9"
  }
 },
 "nbformat": 4,
 "nbformat_minor": 2
}
