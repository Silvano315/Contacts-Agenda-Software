{
 "cells": [
  {
   "cell_type": "markdown",
   "metadata": {},
   "source": [
    "# ContactEase Solutions\n",
    "*Contacts Agenda Software with Python*"
   ]
  },
  {
   "cell_type": "code",
   "execution_count": 1,
   "metadata": {},
   "outputs": [],
   "source": [
    "# Import Libraries\n",
    "\n",
    "import json\n",
    "import os\n",
    "import src"
   ]
  },
  {
   "cell_type": "markdown",
   "metadata": {},
   "source": [
    "## Create Data Structure\n",
    "*JSON file*"
   ]
  },
  {
   "cell_type": "code",
   "execution_count": 2,
   "metadata": {},
   "outputs": [],
   "source": [
    "# Create Data Structure for my JSON file as a phone agenda\n",
    "\n",
    "phone_agenda = {\n",
    "    'name' : {\n",
    "        'first name' : [],\n",
    "        'last name' : []\n",
    "    },\n",
    "    'phone' : [],\n",
    "    'email' : [],\n",
    "    'group' : [],\n",
    "    'address' : {\n",
    "        'street' : [],\n",
    "        'city' : [],\n",
    "        'state' : []\n",
    "    },\n",
    "    'note' : []\n",
    "}"
   ]
  },
  {
   "cell_type": "code",
   "execution_count": 4,
   "metadata": {},
   "outputs": [],
   "source": [
    "# Possible integration: create a Logs folder to store all the operations done by the user with datatime \n",
    "# TBD\n",
    "\n",
    "os.makedirs(\"Logs\", exist_ok=True)"
   ]
  },
  {
   "cell_type": "code",
   "execution_count": 3,
   "metadata": {},
   "outputs": [
    {
     "name": "stdout",
     "output_type": "stream",
     "text": [
      "Agenda has been created!!\n"
     ]
    }
   ],
   "source": [
    "# Create Contacts folder where to store the json file for phone agenda\n",
    "\n",
    "os.makedirs(\"Contacts\", exist_ok=True)\n",
    "\n",
    "with open(\"Contacts/agenda.json\", 'w') as agenda_file:\n",
    "    \n",
    "    json.dump(phone_agenda, agenda_file, indent=4)\n",
    "\n",
    "    print(\"Agenda has been created!!\")"
   ]
  },
  {
   "cell_type": "markdown",
   "metadata": {},
   "source": [
    "## Features"
   ]
  },
  {
   "cell_type": "code",
   "execution_count": 2,
   "metadata": {},
   "outputs": [],
   "source": [
    "# Create instance to Operations object\n",
    "\n",
    "operations = src.agenda_operations.Operations()"
   ]
  },
  {
   "cell_type": "markdown",
   "metadata": {},
   "source": [
    "### Adding a contact"
   ]
  },
  {
   "cell_type": "code",
   "execution_count": null,
   "metadata": {},
   "outputs": [],
   "source": [
    "# Integration for name:\n",
    "    # name already saved (OK)\n",
    "        # Ask for modify the contact already exist (OK)\n",
    "        # Ask for changing and repeating the name (OK)\n",
    "    # Avoid \"\" option (OK)\n",
    "    # Adding surname (NO)\n",
    "    # CREATE NAME like a COUPLE OF TWO VALUES: first name and last name\n",
    "\n",
    "# Integration for phone:\n",
    "    # phone already saved (OK)\n",
    "        # Ask for modify the contact already exist (OK)\n",
    "        # Ask for changing and repeating the phone (OK)\n",
    "    # Avoid \"\" option (OK)\n",
    "    # check if characters are all digits (at least +) (OK)\n",
    "\n",
    "# Integration for email:\n",
    "    # correct email? Is there present one @ and correct TLD domain (OK)\n",
    "\n",
    "# Integration for notes:\n",
    "    # Put a limit of words (150)"
   ]
  },
  {
   "cell_type": "code",
   "execution_count": 5,
   "metadata": {},
   "outputs": [],
   "source": [
    "# Add contact\n",
    "\n",
    "operations.add_contact()"
   ]
  },
  {
   "cell_type": "markdown",
   "metadata": {},
   "source": [
    "### Contacts View"
   ]
  },
  {
   "cell_type": "code",
   "execution_count": null,
   "metadata": {},
   "outputs": [],
   "source": [
    "# Integration to do:\n",
    "    # Display only names    (OK)\n",
    "        # I could also display information which are not empty (NO)\n",
    "    # Alphabetic order  (OK)\n",
    "        # How to handle number in the name before letters (OK)\n",
    "    # Ask the client to see a particular contact (OK)\n",
    "        # Be carefull: user could digit wrong name (OK)\n",
    "        # Do \\n every two lines for notes."
   ]
  },
  {
   "cell_type": "code",
   "execution_count": 3,
   "metadata": {},
   "outputs": [
    {
     "name": "stdout",
     "output_type": "stream",
     "text": [
      "Contact 1: Paola Quarto\n",
      "Contact 2: Paolo Lupo\n",
      "Contact 3: Silvano Lupo\n",
      "Contact 4: Silvano Quarto\n",
      "==============================\n",
      "First name: Paola\n",
      "Last name: Quarto\n",
      "Phone: 4234234\n",
      "Email: rfewfw@fwfw.com\n",
      "Group: me\n",
      "City: san francisco\n",
      "State: usa\n",
      "Note: me\n",
      "==============================\n",
      "Exiting the operation. Thank you!\n"
     ]
    }
   ],
   "source": [
    "# View Contacts list\n",
    "\n",
    "operations.view_contacts()"
   ]
  },
  {
   "cell_type": "markdown",
   "metadata": {},
   "source": [
    "### Editing a Contact"
   ]
  },
  {
   "cell_type": "code",
   "execution_count": 3,
   "metadata": {},
   "outputs": [
    {
     "name": "stdout",
     "output_type": "stream",
     "text": [
      "==============================\n",
      "Modified contact:\n",
      "First name: Paola\n",
      "Last name: Quarto\n",
      "Phone: 32525959\n",
      "Email: rgfrw@fewf.it\n",
      "Group: family\n",
      "City: san francisco\n",
      "State: usa\n",
      "Note: family sister\n",
      "==============================\n",
      "Exiting the operation. Thank you!\n"
     ]
    }
   ],
   "source": [
    "# Edit Contacts details\n",
    "\n",
    "operations.edit_contacts()"
   ]
  },
  {
   "cell_type": "markdown",
   "metadata": {},
   "source": [
    "### Deleting contact"
   ]
  },
  {
   "cell_type": "code",
   "execution_count": 3,
   "metadata": {},
   "outputs": [
    {
     "name": "stdout",
     "output_type": "stream",
     "text": [
      "Contact 'Silvano Quarto' has been deleted.\n"
     ]
    }
   ],
   "source": [
    "# Deleting a contact from contact's name\n",
    "\n",
    "operations.deleting_contact()"
   ]
  },
  {
   "cell_type": "markdown",
   "metadata": {},
   "source": [
    "### Search for a Contact"
   ]
  },
  {
   "cell_type": "code",
   "execution_count": 3,
   "metadata": {},
   "outputs": [
    {
     "name": "stdout",
     "output_type": "stream",
     "text": [
      "Multiple contacts found with this first name:\n",
      "First name: Silvano, Last name: Quarto\n",
      "First name: Silvano, Last name: Lupo\n",
      "==============================\n",
      "First name: Silvano\n",
      "Last name: Quarto\n",
      "Phone: 32525959\n",
      "Email: rgfrw@fewf.it\n",
      "Group: family\n",
      "Note: family sister\n",
      "==============================\n"
     ]
    }
   ],
   "source": [
    "# Searching for a contact by contact's first name and surname\n",
    "\n",
    "operations.search_contact()"
   ]
  }
 ],
 "metadata": {
  "kernelspec": {
   "display_name": ".venv",
   "language": "python",
   "name": "python3"
  },
  "language_info": {
   "codemirror_mode": {
    "name": "ipython",
    "version": 3
   },
   "file_extension": ".py",
   "mimetype": "text/x-python",
   "name": "python",
   "nbconvert_exporter": "python",
   "pygments_lexer": "ipython3",
   "version": "3.11.9"
  }
 },
 "nbformat": 4,
 "nbformat_minor": 2
}
