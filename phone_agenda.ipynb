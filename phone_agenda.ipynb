{
 "cells": [
  {
   "cell_type": "markdown",
   "metadata": {},
   "source": [
    "# ContactEase Solutions\n",
    "*Contacts Agenda Software with Python*"
   ]
  },
  {
   "cell_type": "code",
   "execution_count": 1,
   "metadata": {},
   "outputs": [],
   "source": [
    "# Import Libraries\n",
    "\n",
    "import json\n",
    "import os\n",
    "import src"
   ]
  },
  {
   "cell_type": "markdown",
   "metadata": {},
   "source": [
    "## Create Data Structure\n",
    "*JSON file*"
   ]
  },
  {
   "cell_type": "code",
   "execution_count": 2,
   "metadata": {},
   "outputs": [],
   "source": [
    "# Create Data Structure for my JSON file as a phone agenda\n",
    "\n",
    "phone_agenda = {\n",
    "    'name' : {\n",
    "        'first name' : [],\n",
    "        'last name' : []\n",
    "    },\n",
    "    'phone' : [],\n",
    "    'email' : [],\n",
    "    'group' : [],\n",
    "    'address' : {\n",
    "        'street' : [],\n",
    "        'city' : [],\n",
    "        'state' : []\n",
    "    },\n",
    "    'note' : []\n",
    "}"
   ]
  },
  {
   "cell_type": "code",
   "execution_count": 4,
   "metadata": {},
   "outputs": [],
   "source": [
    "# Possible integration: create a Logs folder to store all the operations done by the user with datatime \n",
    "# TBD\n",
    "\n",
    "os.makedirs(\"Logs\", exist_ok=True)"
   ]
  },
  {
   "cell_type": "code",
   "execution_count": 3,
   "metadata": {},
   "outputs": [
    {
     "name": "stdout",
     "output_type": "stream",
     "text": [
      "Agenda has been created!!\n"
     ]
    }
   ],
   "source": [
    "# Create Contacts folder where to store the json file for phone agenda\n",
    "\n",
    "os.makedirs(\"Contacts\", exist_ok=True)\n",
    "\n",
    "with open(\"Contacts/agenda.json\", 'w') as agenda_file:\n",
    "    \n",
    "    json.dump(phone_agenda, agenda_file, indent=4)\n",
    "\n",
    "    print(\"Agenda has been created!!\")"
   ]
  },
  {
   "cell_type": "markdown",
   "metadata": {},
   "source": [
    "## Features"
   ]
  },
  {
   "cell_type": "code",
   "execution_count": 2,
   "metadata": {},
   "outputs": [],
   "source": [
    "# Create instance to Operations object\n",
    "\n",
    "operations = src.agenda_operations.Operations()"
   ]
  },
  {
   "cell_type": "markdown",
   "metadata": {},
   "source": [
    "### Load Agenda"
   ]
  },
  {
   "cell_type": "code",
   "execution_count": 17,
   "metadata": {},
   "outputs": [
    {
     "data": {
      "text/plain": [
       "{'name': {'first name': ['Paola',\n",
       "   'silvano',\n",
       "   'Paolo',\n",
       "   'Alberto',\n",
       "   'nicoletta',\n",
       "   'Silvano'],\n",
       "  'last name': ['Quarto', 'quarto', 'Lupo', 'Quarto', 'rutigliano', 'Lupo']},\n",
       " 'phone': ['4234234',\n",
       "  '2324',\n",
       "  '324324325',\n",
       "  '13413413',\n",
       "  '414190349',\n",
       "  '11111111',\n",
       "  '432556',\n",
       "  '34324325',\n",
       "  '4444444'],\n",
       " 'email': ['rfewfw@fwfw.com',\n",
       "  'wd@323.it',\n",
       "  'fdsasf@fasas.com',\n",
       "  '',\n",
       "  '',\n",
       "  'fdsfsdf@sdfsd.com',\n",
       "  '',\n",
       "  'fdsf@fsdf.it',\n",
       "  'weqqr@ewqe.com'],\n",
       " 'group': ['me', 'me', '', '', 'family', 'family', '', 'me', 'no'],\n",
       " 'address': {'street': ['', '', 'afhow', 'scommegan 8/f', '', ''],\n",
       "  'city': ['san francisco', '', 'fdsf', 'barletta', '', ''],\n",
       "  'state': ['usa', '', 'fdasa', 'italia', '', '']},\n",
       " 'note': ['me', 'family sister', '', '', '', 'family', 'family', 'family', '']}"
      ]
     },
     "execution_count": 17,
     "metadata": {},
     "output_type": "execute_result"
    }
   ],
   "source": [
    "# Load Agenda to see data structure and contacts' details\n",
    "\n",
    "operations.load_contacts()"
   ]
  },
  {
   "cell_type": "markdown",
   "metadata": {},
   "source": [
    "### Adding a contact"
   ]
  },
  {
   "cell_type": "code",
   "execution_count": 32,
   "metadata": {},
   "outputs": [
    {
     "name": "stdout",
     "output_type": "stream",
     "text": [
      "Contacts saved successfully.\n",
      "Contact added successfully.\n"
     ]
    }
   ],
   "source": [
    "# Add contact\n",
    "\n",
    "operations.add_contact()"
   ]
  },
  {
   "cell_type": "markdown",
   "metadata": {},
   "source": [
    "### Contacts View"
   ]
  },
  {
   "cell_type": "code",
   "execution_count": 16,
   "metadata": {},
   "outputs": [
    {
     "name": "stdout",
     "output_type": "stream",
     "text": [
      "Contact 1: Alberto Quarto\n",
      "Contact 2: nicoletta rutigliano\n",
      "Contact 3: Paola Quarto\n",
      "Contact 4: Paolo Lupo\n",
      "Contact 5: Silvano Lupo\n",
      "Contact 6: silvano quarto\n",
      "==============================\n",
      "Name not present. Please enter a contact's name available:\n",
      "==============================\n",
      "First name: silvano\n",
      "Last name: quarto\n",
      "Phone: 2324\n",
      "Email: wd@323.it\n",
      "Group: me\n",
      "Note: family sister\n",
      "==============================\n",
      "Exiting the operation. Thank you!\n"
     ]
    }
   ],
   "source": [
    "# View Contacts list\n",
    "\n",
    "operations.view_contacts()"
   ]
  },
  {
   "cell_type": "markdown",
   "metadata": {},
   "source": [
    "### Editing a Contact"
   ]
  },
  {
   "cell_type": "code",
   "execution_count": 15,
   "metadata": {},
   "outputs": [
    {
     "name": "stdout",
     "output_type": "stream",
     "text": [
      "Name not present. Please enter a contact's name available.\n",
      "Contacts saved successfully.\n",
      "==============================\n",
      "Modified contact:\n",
      "First name: silvano\n",
      "Last name: quarto\n",
      "Phone: 2324\n",
      "Email: wd@323.it\n",
      "Group: me\n",
      "Note: family sister\n",
      "==============================\n",
      "Exiting the operation. Thank you!\n"
     ]
    }
   ],
   "source": [
    "# Edit Contacts details\n",
    "\n",
    "operations.edit_contacts()"
   ]
  },
  {
   "cell_type": "markdown",
   "metadata": {},
   "source": [
    "### Deleting contact"
   ]
  },
  {
   "cell_type": "code",
   "execution_count": 28,
   "metadata": {},
   "outputs": [
    {
     "name": "stdout",
     "output_type": "stream",
     "text": [
      "Contact 'Silvano Lupo' has been deleted.\n",
      "Contacts saved successfully.\n"
     ]
    }
   ],
   "source": [
    "# Deleting a contact from contact's name\n",
    "\n",
    "operations.deleting_contact()"
   ]
  },
  {
   "cell_type": "markdown",
   "metadata": {},
   "source": [
    "### Search for a Contact"
   ]
  },
  {
   "cell_type": "code",
   "execution_count": 11,
   "metadata": {},
   "outputs": [
    {
     "name": "stdout",
     "output_type": "stream",
     "text": [
      "Multiple contacts found with this first name:\n",
      "First name: Silvano, Last name: Quarto\n",
      "First name: Silvano, Last name: Lupo\n",
      "==============================\n",
      "First name: Silvano\n",
      "Last name: Quarto\n",
      "Phone: 88888888\n",
      "Email: rgfrw@fewf.it\n",
      "Group: family\n",
      "Note: family sister\n",
      "==============================\n"
     ]
    }
   ],
   "source": [
    "# Searching for a contact by contact's first name and surname\n",
    "\n",
    "operations.search_contact()"
   ]
  }
 ],
 "metadata": {
  "kernelspec": {
   "display_name": ".venv",
   "language": "python",
   "name": "python3"
  },
  "language_info": {
   "codemirror_mode": {
    "name": "ipython",
    "version": 3
   },
   "file_extension": ".py",
   "mimetype": "text/x-python",
   "name": "python",
   "nbconvert_exporter": "python",
   "pygments_lexer": "ipython3",
   "version": "3.11.9"
  }
 },
 "nbformat": 4,
 "nbformat_minor": 2
}
