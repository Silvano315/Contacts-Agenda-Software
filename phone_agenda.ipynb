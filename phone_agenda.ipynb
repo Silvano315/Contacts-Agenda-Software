{
 "cells": [
  {
   "cell_type": "markdown",
   "metadata": {},
   "source": [
    "# ContactEase Solutions\n",
    "*Contacts Agenda Software with Python*"
   ]
  },
  {
   "cell_type": "code",
   "execution_count": 1,
   "metadata": {},
   "outputs": [],
   "source": [
    "# Import Libraries\n",
    "\n",
    "import json\n",
    "import os\n",
    "import src"
   ]
  },
  {
   "cell_type": "markdown",
   "metadata": {},
   "source": [
    "## Create Data Structure\n",
    "*JSON file*"
   ]
  },
  {
   "cell_type": "code",
   "execution_count": 2,
   "metadata": {},
   "outputs": [],
   "source": [
    "# Create Data Structure for my JSON file as a phone agenda\n",
    "\n",
    "phone_agenda = {\n",
    "    'name' : [],\n",
    "    'phone' : [],\n",
    "    'email' : [],\n",
    "    'group' : [],\n",
    "    'address' : {\n",
    "        'street' : [],\n",
    "        'city' : [],\n",
    "        'state' : []\n",
    "    },\n",
    "    'note' : []\n",
    "}"
   ]
  },
  {
   "cell_type": "code",
   "execution_count": 3,
   "metadata": {},
   "outputs": [],
   "source": [
    "# Possible integration: create a Logs folder to store all the operations done by the user with datatime \n",
    "# TBD\n",
    "\n",
    "os.makedirs(\"Logs\", exist_ok=True)"
   ]
  },
  {
   "cell_type": "code",
   "execution_count": 4,
   "metadata": {},
   "outputs": [
    {
     "name": "stdout",
     "output_type": "stream",
     "text": [
      "Agenda has been created!!\n"
     ]
    }
   ],
   "source": [
    "# Create Contacts folder where to store the json file for phone agenda\n",
    "\n",
    "os.makedirs(\"Contacts\", exist_ok=True)\n",
    "\n",
    "with open(\"Contacts/agenda.json\", 'w') as agenda_file:\n",
    "    \n",
    "    json.dump(phone_agenda, agenda_file, indent=4)\n",
    "\n",
    "    print(\"Agenda has been created!!\")"
   ]
  },
  {
   "cell_type": "markdown",
   "metadata": {},
   "source": [
    "## Features"
   ]
  },
  {
   "cell_type": "code",
   "execution_count": 2,
   "metadata": {},
   "outputs": [],
   "source": [
    "# Create instance to Operations object\n",
    "\n",
    "operations = src.agenda_operations.Operations()"
   ]
  },
  {
   "cell_type": "markdown",
   "metadata": {},
   "source": [
    "### Adding a contact"
   ]
  },
  {
   "cell_type": "code",
   "execution_count": null,
   "metadata": {},
   "outputs": [],
   "source": [
    "# Integration for name:\n",
    "    # name already saved (OK)\n",
    "        # Ask for modify the contact already exist (OK)\n",
    "        # Ask for changing and repeating the name (OK)\n",
    "    # Avoid \"\" option (OK)\n",
    "    # Adding surname (NO)\n",
    "    # CREATE NAME like a COUPLE OF TWO VALUES: first name and last name\n",
    "\n",
    "# Integration for phone:\n",
    "    # phone already saved (OK)\n",
    "        # Ask for modify the contact already exist (OK)\n",
    "        # Ask for changing and repeating the phone (OK)\n",
    "    # Avoid \"\" option (OK)\n",
    "    # check if characters are all digits (at least +) (OK)\n",
    "\n",
    "# Integration for email:\n",
    "    # correct email? Is there present one @ and correct TLD domain (OK)\n",
    "\n",
    "# Integration for notes:\n",
    "    # Put a limit of words (150)"
   ]
  },
  {
   "cell_type": "code",
   "execution_count": 6,
   "metadata": {},
   "outputs": [],
   "source": [
    "# Add contact\n",
    "\n",
    "operations.add_contact()"
   ]
  },
  {
   "cell_type": "markdown",
   "metadata": {},
   "source": [
    "### Contacts View"
   ]
  },
  {
   "cell_type": "code",
   "execution_count": null,
   "metadata": {},
   "outputs": [],
   "source": [
    "# Integration to do:\n",
    "    # Display only names    (OK)\n",
    "        # I could also display information which are not empty (NO)\n",
    "    # Alphabetic order  (OK)\n",
    "        # How to handle number in the name before letters (OK)\n",
    "    # Ask the client to see a particular contact (OK)\n",
    "        # Be carefull: user could digit wrong name (OK)\n",
    "        # Do \\n every two lines for notes."
   ]
  },
  {
   "cell_type": "code",
   "execution_count": 7,
   "metadata": {},
   "outputs": [
    {
     "name": "stdout",
     "output_type": "stream",
     "text": [
      "Contact 1: aasa\n",
      "Contact 2: Carlo\n",
      "Contact 3: d\n",
      "Contact 4: dscsce\n",
      "Contact 5: e2ece\n",
      "Contact 6: ewewe\n",
      "Contact 7: kayak\n",
      "Contact 8: o\n",
      "Contact 9: p\n",
      "Contact 10: p\n",
      "Contact 11: p\n",
      "Contact 12: p\n",
      "Contact 13: paloschi\n",
      "Contact 14: Paola\n",
      "Contact 15: Paperino\n",
      "Contact 16: sdsdscscscdd\n",
      "Contact 17: Sil\n",
      "Contact 18: Silv\n",
      "Contact 19: Silvano\n",
      "Contact 20: wollaby\n",
      "Contact 21: wombats\n",
      "Contact 22: wwww\n",
      "Contact 23: zio P\n",
      "==============================\n",
      "name: paloschi\n",
      "phone: 3213214\n",
      "==============================\n",
      "==============================\n",
      "name: aasa\n",
      "phone: 2121\n",
      "email: sasa@sas.com\n",
      "group: asasa\n",
      "street: ssas\n",
      "city: sassa\n",
      "state: asasa\n",
      "note: sasasa\n",
      "==============================\n",
      "Exiting the operation. Thank you!\n"
     ]
    }
   ],
   "source": [
    "# View Contacts list\n",
    "\n",
    "operations.view_contacts()"
   ]
  },
  {
   "cell_type": "markdown",
   "metadata": {},
   "source": [
    "### Editing a Contact"
   ]
  },
  {
   "cell_type": "code",
   "execution_count": 4,
   "metadata": {},
   "outputs": [
    {
     "name": "stdout",
     "output_type": "stream",
     "text": [
      "==============================\n",
      "Modified contact:\n",
      "name: Paola\n",
      "phone: 2233847\n",
      "email: None\n",
      "group: family\n",
      "note: sister\n",
      "==============================\n"
     ]
    }
   ],
   "source": [
    "# Edit Contacts details\n",
    "\n",
    "operations.edit_contacts()"
   ]
  },
  {
   "cell_type": "code",
   "execution_count": 7,
   "metadata": {},
   "outputs": [
    {
     "name": "stdout",
     "output_type": "stream",
     "text": [
      "==============================\n",
      "==============================\n",
      "Modified contact:\n",
      "name: aasa\n",
      "phone: 2121\n",
      "email: sasa@sas.com\n",
      "group: asasa\n",
      "street: ssas\n",
      "city: sassa\n",
      "state: asasa\n",
      "note: sasasa\n",
      "==============================\n"
     ]
    }
   ],
   "source": [
    "with open(\"Contacts/agenda.json\", \"r\") as agenda_file:\n",
    "    agenda = json.load(agenda_file)\n",
    "\n",
    "edit_answer = input(\"Would you like to edit contact's details?\")\n",
    "while edit_answer == \"yes\":\n",
    "    contact_name = input(\"Digit contact name you would like to edit details:\")\n",
    "    \"\"\"if self.check_exit(one_contact):\n",
    "                    return\"\"\"\n",
    "    while contact_name not in agenda['name']:\n",
    "        contact_name = input(\"Name not present. Digit a contat's name available:\")\n",
    "        \"\"\"if self.check_exit(contact_name):\n",
    "            return\"\"\"\n",
    "    print(\"=\"*30)\n",
    "    index = agenda['name'].index(contact_name)\n",
    "    for field in list(agenda.keys()):\n",
    "        edit_field = input(f\"Would you like to edit {field}?\")\n",
    "        if edit_field.lower() == 'yes':\n",
    "            if field == 'address':\n",
    "                for position in list(agenda[field].keys()):\n",
    "                    agenda[field][position][index] = input(f\"Enter {position}:\")\n",
    "                continue\n",
    "            agenda[field][index] = input(f\"Enter {field}\")\n",
    "        else:\n",
    "            continue\n",
    "    \"\"\"if self.check_exit(one_contact):\n",
    "            return\"\"\"\n",
    "    print(\"=\"*30)\n",
    "    print(\"Modified contact:\")\n",
    "    operations.view_contact(agenda['name'][index], agenda)\n",
    "    print(\"=\"*30)\n",
    "    edit_answer = input(\"Would you like to edit another contact's details?\")\n",
    "    \"\"\"if self.check_exit(contact_name):\n",
    "            return\"\"\"\n",
    "\n",
    "with open(\"Contacts/agenda.json\", \"w\") as agenda_file:\n",
    "    json.dump(agenda, agenda_file, indent=4)"
   ]
  }
 ],
 "metadata": {
  "kernelspec": {
   "display_name": ".venv",
   "language": "python",
   "name": "python3"
  },
  "language_info": {
   "codemirror_mode": {
    "name": "ipython",
    "version": 3
   },
   "file_extension": ".py",
   "mimetype": "text/x-python",
   "name": "python",
   "nbconvert_exporter": "python",
   "pygments_lexer": "ipython3",
   "version": "3.11.9"
  }
 },
 "nbformat": 4,
 "nbformat_minor": 2
}
